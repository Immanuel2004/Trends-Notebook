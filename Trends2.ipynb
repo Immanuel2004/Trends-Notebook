{
 "cells": [
  {
   "cell_type": "code",
   "execution_count": 2,
   "id": "999a5320-013f-4b3d-bcdd-79808e2bf4d4",
   "metadata": {},
   "outputs": [],
   "source": [
    "import numpy as np\n",
    "import pandas as pd\n",
    "import matplotlib.pyplot as plt\n",
    "import seaborn as sns\n",
    "\n",
    "%matplotlib inline"
   ]
  },
  {
   "cell_type": "code",
   "execution_count": 3,
   "id": "92c06f01-964e-4ebd-a442-d8aabc6956c3",
   "metadata": {},
   "outputs": [],
   "source": [
    "Data = {\n",
    "    'Year (X)':[2000,2001,2002,2003,2004,2005,2006],\n",
    "    'Production (Y)':[12,10,14,11,13,15,16]\n",
    "}"
   ]
  },
  {
   "cell_type": "code",
   "execution_count": 4,
   "id": "e6f25d7d-4fa3-4492-a385-d988f09ce12c",
   "metadata": {},
   "outputs": [],
   "source": [
    "df = pd.DataFrame(Data)"
   ]
  },
  {
   "cell_type": "code",
   "execution_count": 5,
   "id": "7aeee76b-1298-4de3-9a83-5d043e64736d",
   "metadata": {},
   "outputs": [
    {
     "data": {
      "text/html": [
       "<div>\n",
       "<style scoped>\n",
       "    .dataframe tbody tr th:only-of-type {\n",
       "        vertical-align: middle;\n",
       "    }\n",
       "\n",
       "    .dataframe tbody tr th {\n",
       "        vertical-align: top;\n",
       "    }\n",
       "\n",
       "    .dataframe thead th {\n",
       "        text-align: right;\n",
       "    }\n",
       "</style>\n",
       "<table border=\"1\" class=\"dataframe\">\n",
       "  <thead>\n",
       "    <tr style=\"text-align: right;\">\n",
       "      <th></th>\n",
       "      <th>Year (X)</th>\n",
       "      <th>Production (Y)</th>\n",
       "    </tr>\n",
       "  </thead>\n",
       "  <tbody>\n",
       "    <tr>\n",
       "      <th>0</th>\n",
       "      <td>2000</td>\n",
       "      <td>12</td>\n",
       "    </tr>\n",
       "    <tr>\n",
       "      <th>1</th>\n",
       "      <td>2001</td>\n",
       "      <td>10</td>\n",
       "    </tr>\n",
       "    <tr>\n",
       "      <th>2</th>\n",
       "      <td>2002</td>\n",
       "      <td>14</td>\n",
       "    </tr>\n",
       "    <tr>\n",
       "      <th>3</th>\n",
       "      <td>2003</td>\n",
       "      <td>11</td>\n",
       "    </tr>\n",
       "    <tr>\n",
       "      <th>4</th>\n",
       "      <td>2004</td>\n",
       "      <td>13</td>\n",
       "    </tr>\n",
       "    <tr>\n",
       "      <th>5</th>\n",
       "      <td>2005</td>\n",
       "      <td>15</td>\n",
       "    </tr>\n",
       "    <tr>\n",
       "      <th>6</th>\n",
       "      <td>2006</td>\n",
       "      <td>16</td>\n",
       "    </tr>\n",
       "  </tbody>\n",
       "</table>\n",
       "</div>"
      ],
      "text/plain": [
       "   Year (X)  Production (Y)\n",
       "0      2000              12\n",
       "1      2001              10\n",
       "2      2002              14\n",
       "3      2003              11\n",
       "4      2004              13\n",
       "5      2005              15\n",
       "6      2006              16"
      ]
     },
     "execution_count": 5,
     "metadata": {},
     "output_type": "execute_result"
    }
   ],
   "source": [
    "df"
   ]
  },
  {
   "cell_type": "code",
   "execution_count": 8,
   "id": "26c65a3e-1fe6-46b3-b312-09829e73dd06",
   "metadata": {},
   "outputs": [],
   "source": [
    "X = sum(df['Year (X)']) / len(df['Year (X)'])"
   ]
  },
  {
   "cell_type": "code",
   "execution_count": 9,
   "id": "399d1a02-b5a7-4a96-9acf-35d2232c5c10",
   "metadata": {},
   "outputs": [
    {
     "data": {
      "text/plain": [
       "2003.0"
      ]
     },
     "execution_count": 9,
     "metadata": {},
     "output_type": "execute_result"
    }
   ],
   "source": [
    "X"
   ]
  },
  {
   "cell_type": "code",
   "execution_count": 6,
   "id": "69aea7fd-5e6c-4ac8-949a-f64b9692f3f2",
   "metadata": {},
   "outputs": [],
   "source": [
    "df['X'] = df['Year (X)']+df['Production (Y)']\n",
    "df['X'] = np.nan"
   ]
  },
  {
   "cell_type": "code",
   "execution_count": 14,
   "id": "b473b0fa-79a5-40ad-9ec2-c4dd08b8a549",
   "metadata": {},
   "outputs": [],
   "source": [
    "for i in range(len(df)):\n",
    "     x = df['Year (X)'].iloc[i] - X\n",
    "     df.at[i, 'X'] = x"
   ]
  },
  {
   "cell_type": "code",
   "execution_count": 15,
   "id": "c0a8274a-f140-4d5b-9e11-ec4cbb3f110a",
   "metadata": {},
   "outputs": [
    {
     "data": {
      "text/html": [
       "<div>\n",
       "<style scoped>\n",
       "    .dataframe tbody tr th:only-of-type {\n",
       "        vertical-align: middle;\n",
       "    }\n",
       "\n",
       "    .dataframe tbody tr th {\n",
       "        vertical-align: top;\n",
       "    }\n",
       "\n",
       "    .dataframe thead th {\n",
       "        text-align: right;\n",
       "    }\n",
       "</style>\n",
       "<table border=\"1\" class=\"dataframe\">\n",
       "  <thead>\n",
       "    <tr style=\"text-align: right;\">\n",
       "      <th></th>\n",
       "      <th>Year (X)</th>\n",
       "      <th>Production (Y)</th>\n",
       "      <th>X</th>\n",
       "    </tr>\n",
       "  </thead>\n",
       "  <tbody>\n",
       "    <tr>\n",
       "      <th>0</th>\n",
       "      <td>2000</td>\n",
       "      <td>12</td>\n",
       "      <td>-3.0</td>\n",
       "    </tr>\n",
       "    <tr>\n",
       "      <th>1</th>\n",
       "      <td>2001</td>\n",
       "      <td>10</td>\n",
       "      <td>-2.0</td>\n",
       "    </tr>\n",
       "    <tr>\n",
       "      <th>2</th>\n",
       "      <td>2002</td>\n",
       "      <td>14</td>\n",
       "      <td>-1.0</td>\n",
       "    </tr>\n",
       "    <tr>\n",
       "      <th>3</th>\n",
       "      <td>2003</td>\n",
       "      <td>11</td>\n",
       "      <td>0.0</td>\n",
       "    </tr>\n",
       "    <tr>\n",
       "      <th>4</th>\n",
       "      <td>2004</td>\n",
       "      <td>13</td>\n",
       "      <td>1.0</td>\n",
       "    </tr>\n",
       "    <tr>\n",
       "      <th>5</th>\n",
       "      <td>2005</td>\n",
       "      <td>15</td>\n",
       "      <td>2.0</td>\n",
       "    </tr>\n",
       "    <tr>\n",
       "      <th>6</th>\n",
       "      <td>2006</td>\n",
       "      <td>16</td>\n",
       "      <td>3.0</td>\n",
       "    </tr>\n",
       "  </tbody>\n",
       "</table>\n",
       "</div>"
      ],
      "text/plain": [
       "   Year (X)  Production (Y)    X\n",
       "0      2000              12 -3.0\n",
       "1      2001              10 -2.0\n",
       "2      2002              14 -1.0\n",
       "3      2003              11  0.0\n",
       "4      2004              13  1.0\n",
       "5      2005              15  2.0\n",
       "6      2006              16  3.0"
      ]
     },
     "execution_count": 15,
     "metadata": {},
     "output_type": "execute_result"
    }
   ],
   "source": [
    "df"
   ]
  },
  {
   "cell_type": "code",
   "execution_count": 16,
   "id": "1613c4a6-88d2-4a21-b833-ee14908282d9",
   "metadata": {},
   "outputs": [],
   "source": [
    "df['X^2'] = df['X'] + df['Year (X)']+df['Production (Y)']\n",
    "df['X^2'] = np.nan"
   ]
  },
  {
   "cell_type": "code",
   "execution_count": 18,
   "id": "aada48ba-9715-4259-a2ef-7ba91c1c60d5",
   "metadata": {},
   "outputs": [],
   "source": [
    "for i in range(len(df)):\n",
    "    df.at[i, 'X^2'] = df['X'].iloc[i] ** 2  "
   ]
  },
  {
   "cell_type": "code",
   "execution_count": 19,
   "id": "03224d0d-eb73-41d2-9931-ae3e181b95f6",
   "metadata": {},
   "outputs": [
    {
     "data": {
      "text/html": [
       "<div>\n",
       "<style scoped>\n",
       "    .dataframe tbody tr th:only-of-type {\n",
       "        vertical-align: middle;\n",
       "    }\n",
       "\n",
       "    .dataframe tbody tr th {\n",
       "        vertical-align: top;\n",
       "    }\n",
       "\n",
       "    .dataframe thead th {\n",
       "        text-align: right;\n",
       "    }\n",
       "</style>\n",
       "<table border=\"1\" class=\"dataframe\">\n",
       "  <thead>\n",
       "    <tr style=\"text-align: right;\">\n",
       "      <th></th>\n",
       "      <th>Year (X)</th>\n",
       "      <th>Production (Y)</th>\n",
       "      <th>X</th>\n",
       "      <th>X^2</th>\n",
       "    </tr>\n",
       "  </thead>\n",
       "  <tbody>\n",
       "    <tr>\n",
       "      <th>0</th>\n",
       "      <td>2000</td>\n",
       "      <td>12</td>\n",
       "      <td>-3.0</td>\n",
       "      <td>9.0</td>\n",
       "    </tr>\n",
       "    <tr>\n",
       "      <th>1</th>\n",
       "      <td>2001</td>\n",
       "      <td>10</td>\n",
       "      <td>-2.0</td>\n",
       "      <td>4.0</td>\n",
       "    </tr>\n",
       "    <tr>\n",
       "      <th>2</th>\n",
       "      <td>2002</td>\n",
       "      <td>14</td>\n",
       "      <td>-1.0</td>\n",
       "      <td>1.0</td>\n",
       "    </tr>\n",
       "    <tr>\n",
       "      <th>3</th>\n",
       "      <td>2003</td>\n",
       "      <td>11</td>\n",
       "      <td>0.0</td>\n",
       "      <td>0.0</td>\n",
       "    </tr>\n",
       "    <tr>\n",
       "      <th>4</th>\n",
       "      <td>2004</td>\n",
       "      <td>13</td>\n",
       "      <td>1.0</td>\n",
       "      <td>1.0</td>\n",
       "    </tr>\n",
       "    <tr>\n",
       "      <th>5</th>\n",
       "      <td>2005</td>\n",
       "      <td>15</td>\n",
       "      <td>2.0</td>\n",
       "      <td>4.0</td>\n",
       "    </tr>\n",
       "    <tr>\n",
       "      <th>6</th>\n",
       "      <td>2006</td>\n",
       "      <td>16</td>\n",
       "      <td>3.0</td>\n",
       "      <td>9.0</td>\n",
       "    </tr>\n",
       "  </tbody>\n",
       "</table>\n",
       "</div>"
      ],
      "text/plain": [
       "   Year (X)  Production (Y)    X  X^2\n",
       "0      2000              12 -3.0  9.0\n",
       "1      2001              10 -2.0  4.0\n",
       "2      2002              14 -1.0  1.0\n",
       "3      2003              11  0.0  0.0\n",
       "4      2004              13  1.0  1.0\n",
       "5      2005              15  2.0  4.0\n",
       "6      2006              16  3.0  9.0"
      ]
     },
     "execution_count": 19,
     "metadata": {},
     "output_type": "execute_result"
    }
   ],
   "source": [
    "df"
   ]
  },
  {
   "cell_type": "code",
   "execution_count": 20,
   "id": "a979611a-9ba3-4469-aa0b-5eb2e9e6cce2",
   "metadata": {},
   "outputs": [],
   "source": [
    "df['XY'] = df['X^2'] + df['X'] + df['Year (X)']+df['Production (Y)']\n",
    "df['XY'] = np.nan"
   ]
  },
  {
   "cell_type": "code",
   "execution_count": 23,
   "id": "06928ba2-e394-402b-9603-784e543efa4e",
   "metadata": {},
   "outputs": [],
   "source": [
    "for i in range(len(df)):\n",
    "     x = df['X'].iloc[i] * df['Production (Y)'].iloc[i]\n",
    "     df.at[i, 'XY'] = x"
   ]
  },
  {
   "cell_type": "code",
   "execution_count": 24,
   "id": "6bfa9941-8ac6-4c67-a96c-4f366a848641",
   "metadata": {},
   "outputs": [
    {
     "data": {
      "text/html": [
       "<div>\n",
       "<style scoped>\n",
       "    .dataframe tbody tr th:only-of-type {\n",
       "        vertical-align: middle;\n",
       "    }\n",
       "\n",
       "    .dataframe tbody tr th {\n",
       "        vertical-align: top;\n",
       "    }\n",
       "\n",
       "    .dataframe thead th {\n",
       "        text-align: right;\n",
       "    }\n",
       "</style>\n",
       "<table border=\"1\" class=\"dataframe\">\n",
       "  <thead>\n",
       "    <tr style=\"text-align: right;\">\n",
       "      <th></th>\n",
       "      <th>Year (X)</th>\n",
       "      <th>Production (Y)</th>\n",
       "      <th>X</th>\n",
       "      <th>X^2</th>\n",
       "      <th>XY</th>\n",
       "    </tr>\n",
       "  </thead>\n",
       "  <tbody>\n",
       "    <tr>\n",
       "      <th>0</th>\n",
       "      <td>2000</td>\n",
       "      <td>12</td>\n",
       "      <td>-3.0</td>\n",
       "      <td>9.0</td>\n",
       "      <td>-36.0</td>\n",
       "    </tr>\n",
       "    <tr>\n",
       "      <th>1</th>\n",
       "      <td>2001</td>\n",
       "      <td>10</td>\n",
       "      <td>-2.0</td>\n",
       "      <td>4.0</td>\n",
       "      <td>-20.0</td>\n",
       "    </tr>\n",
       "    <tr>\n",
       "      <th>2</th>\n",
       "      <td>2002</td>\n",
       "      <td>14</td>\n",
       "      <td>-1.0</td>\n",
       "      <td>1.0</td>\n",
       "      <td>-14.0</td>\n",
       "    </tr>\n",
       "    <tr>\n",
       "      <th>3</th>\n",
       "      <td>2003</td>\n",
       "      <td>11</td>\n",
       "      <td>0.0</td>\n",
       "      <td>0.0</td>\n",
       "      <td>0.0</td>\n",
       "    </tr>\n",
       "    <tr>\n",
       "      <th>4</th>\n",
       "      <td>2004</td>\n",
       "      <td>13</td>\n",
       "      <td>1.0</td>\n",
       "      <td>1.0</td>\n",
       "      <td>13.0</td>\n",
       "    </tr>\n",
       "    <tr>\n",
       "      <th>5</th>\n",
       "      <td>2005</td>\n",
       "      <td>15</td>\n",
       "      <td>2.0</td>\n",
       "      <td>4.0</td>\n",
       "      <td>30.0</td>\n",
       "    </tr>\n",
       "    <tr>\n",
       "      <th>6</th>\n",
       "      <td>2006</td>\n",
       "      <td>16</td>\n",
       "      <td>3.0</td>\n",
       "      <td>9.0</td>\n",
       "      <td>48.0</td>\n",
       "    </tr>\n",
       "  </tbody>\n",
       "</table>\n",
       "</div>"
      ],
      "text/plain": [
       "   Year (X)  Production (Y)    X  X^2    XY\n",
       "0      2000              12 -3.0  9.0 -36.0\n",
       "1      2001              10 -2.0  4.0 -20.0\n",
       "2      2002              14 -1.0  1.0 -14.0\n",
       "3      2003              11  0.0  0.0   0.0\n",
       "4      2004              13  1.0  1.0  13.0\n",
       "5      2005              15  2.0  4.0  30.0\n",
       "6      2006              16  3.0  9.0  48.0"
      ]
     },
     "execution_count": 24,
     "metadata": {},
     "output_type": "execute_result"
    }
   ],
   "source": [
    "df"
   ]
  },
  {
   "cell_type": "code",
   "execution_count": 25,
   "id": "07f6553e-8694-4e74-b321-457dcb480e7d",
   "metadata": {},
   "outputs": [],
   "source": [
    "df['Y = a + bx'] = df['XY'] + df['X^2'] + df['X'] + df['Year (X)']+df['Production (Y)']\n",
    "df['Y = a + bx'] = np.nan"
   ]
  },
  {
   "cell_type": "code",
   "execution_count": 26,
   "id": "8587a6d2-ee2c-472f-abb2-0db516280a2e",
   "metadata": {},
   "outputs": [],
   "source": [
    "a = sum(df['Production (Y)']) / 7"
   ]
  },
  {
   "cell_type": "code",
   "execution_count": 27,
   "id": "c2475ad9-5444-4d92-80cb-8b5f32e26c41",
   "metadata": {},
   "outputs": [
    {
     "data": {
      "text/plain": [
       "13.0"
      ]
     },
     "execution_count": 27,
     "metadata": {},
     "output_type": "execute_result"
    }
   ],
   "source": [
    "a"
   ]
  },
  {
   "cell_type": "code",
   "execution_count": 28,
   "id": "71338678-d0db-4f62-adbf-3a3942025044",
   "metadata": {},
   "outputs": [],
   "source": [
    "b = sum(df['XY']) / sum(df['X^2'])"
   ]
  },
  {
   "cell_type": "code",
   "execution_count": 29,
   "id": "6c187ea8-ab75-4bdc-a19d-1ef3a507b7f4",
   "metadata": {},
   "outputs": [
    {
     "data": {
      "text/plain": [
       "0.75"
      ]
     },
     "execution_count": 29,
     "metadata": {},
     "output_type": "execute_result"
    }
   ],
   "source": [
    "b"
   ]
  },
  {
   "cell_type": "code",
   "execution_count": 32,
   "id": "fe3d588d-56dd-46c9-bb65-702becbc4ca6",
   "metadata": {},
   "outputs": [],
   "source": [
    "for i in range(len(df)):\n",
    "    y = a + b * df['X'].iloc[i]\n",
    "    df.at[i,'Y = a + bx'] = y"
   ]
  },
  {
   "cell_type": "code",
   "execution_count": 33,
   "id": "ea78e4a6-56aa-4f57-8bfc-20314881c443",
   "metadata": {},
   "outputs": [
    {
     "data": {
      "text/html": [
       "<div>\n",
       "<style scoped>\n",
       "    .dataframe tbody tr th:only-of-type {\n",
       "        vertical-align: middle;\n",
       "    }\n",
       "\n",
       "    .dataframe tbody tr th {\n",
       "        vertical-align: top;\n",
       "    }\n",
       "\n",
       "    .dataframe thead th {\n",
       "        text-align: right;\n",
       "    }\n",
       "</style>\n",
       "<table border=\"1\" class=\"dataframe\">\n",
       "  <thead>\n",
       "    <tr style=\"text-align: right;\">\n",
       "      <th></th>\n",
       "      <th>Year (X)</th>\n",
       "      <th>Production (Y)</th>\n",
       "      <th>X</th>\n",
       "      <th>X^2</th>\n",
       "      <th>XY</th>\n",
       "      <th>Y = a + bx</th>\n",
       "    </tr>\n",
       "  </thead>\n",
       "  <tbody>\n",
       "    <tr>\n",
       "      <th>0</th>\n",
       "      <td>2000</td>\n",
       "      <td>12</td>\n",
       "      <td>-3.0</td>\n",
       "      <td>9.0</td>\n",
       "      <td>-36.0</td>\n",
       "      <td>10.75</td>\n",
       "    </tr>\n",
       "    <tr>\n",
       "      <th>1</th>\n",
       "      <td>2001</td>\n",
       "      <td>10</td>\n",
       "      <td>-2.0</td>\n",
       "      <td>4.0</td>\n",
       "      <td>-20.0</td>\n",
       "      <td>11.50</td>\n",
       "    </tr>\n",
       "    <tr>\n",
       "      <th>2</th>\n",
       "      <td>2002</td>\n",
       "      <td>14</td>\n",
       "      <td>-1.0</td>\n",
       "      <td>1.0</td>\n",
       "      <td>-14.0</td>\n",
       "      <td>12.25</td>\n",
       "    </tr>\n",
       "    <tr>\n",
       "      <th>3</th>\n",
       "      <td>2003</td>\n",
       "      <td>11</td>\n",
       "      <td>0.0</td>\n",
       "      <td>0.0</td>\n",
       "      <td>0.0</td>\n",
       "      <td>13.00</td>\n",
       "    </tr>\n",
       "    <tr>\n",
       "      <th>4</th>\n",
       "      <td>2004</td>\n",
       "      <td>13</td>\n",
       "      <td>1.0</td>\n",
       "      <td>1.0</td>\n",
       "      <td>13.0</td>\n",
       "      <td>13.75</td>\n",
       "    </tr>\n",
       "    <tr>\n",
       "      <th>5</th>\n",
       "      <td>2005</td>\n",
       "      <td>15</td>\n",
       "      <td>2.0</td>\n",
       "      <td>4.0</td>\n",
       "      <td>30.0</td>\n",
       "      <td>14.50</td>\n",
       "    </tr>\n",
       "    <tr>\n",
       "      <th>6</th>\n",
       "      <td>2006</td>\n",
       "      <td>16</td>\n",
       "      <td>3.0</td>\n",
       "      <td>9.0</td>\n",
       "      <td>48.0</td>\n",
       "      <td>15.25</td>\n",
       "    </tr>\n",
       "  </tbody>\n",
       "</table>\n",
       "</div>"
      ],
      "text/plain": [
       "   Year (X)  Production (Y)    X  X^2    XY  Y = a + bx\n",
       "0      2000              12 -3.0  9.0 -36.0       10.75\n",
       "1      2001              10 -2.0  4.0 -20.0       11.50\n",
       "2      2002              14 -1.0  1.0 -14.0       12.25\n",
       "3      2003              11  0.0  0.0   0.0       13.00\n",
       "4      2004              13  1.0  1.0  13.0       13.75\n",
       "5      2005              15  2.0  4.0  30.0       14.50\n",
       "6      2006              16  3.0  9.0  48.0       15.25"
      ]
     },
     "execution_count": 33,
     "metadata": {},
     "output_type": "execute_result"
    }
   ],
   "source": [
    "df"
   ]
  },
  {
   "cell_type": "code",
   "execution_count": 48,
   "id": "a3b63581-5cfa-40ab-8f28-03b2eae7e85c",
   "metadata": {},
   "outputs": [
    {
     "data": {
      "image/png": "[encoded data removed]",
      "text/plain": [
       "<Figure size 640x480 with 1 Axes>"
      ]
     },
     "metadata": {},
     "output_type": "display_data"
    }
   ],
   "source": [
    "plt.plot(\n",
    "    df['Year (X)'], \n",
    "    df['Y = a + bx'], \n",
    "    linestyle='dotted', \n",
    "    marker='o', \n",
    "    color='blue', \n",
    "    label='Y = a + bx'\n",
    ")\n",
    "\n",
    "# Plot 'Production' as a solid line with markers\n",
    "plt.plot(\n",
    "    df['Year (X)'], \n",
    "    df['Production (Y)'], \n",
    "    linestyle='solid', \n",
    "    marker='s', \n",
    "    color='green', \n",
    "    label='Production'\n",
    ")\n",
    "\n",
    "# Add labels, title, and legend\n",
    "plt.xlabel('Year')\n",
    "plt.ylabel('Values')\n",
    "plt.title('Visualization of Y = a + bx (Dotted) and Production vs. Year with Highlighted Points')\n",
    "plt.legend()\n",
    "plt.grid(True)\n",
    "\n",
    "plt.show()"
   ]
  },
  {
   "cell_type": "code",
   "execution_count": null,
   "id": "8505f2b1-aefd-41f5-8dd3-52be9ac840ca",
   "metadata": {},
   "outputs": [],
   "source": []
  }
 ],
 "metadata": {
  "kernelspec": {
   "display_name": "Python 3 (ipykernel)",
   "language": "python",
   "name": "python3"
  },
  "language_info": {
   "codemirror_mode": {
    "name": "ipython",
    "version": 3
   },
   "file_extension": ".py",
   "mimetype": "text/x-python",
   "name": "python",
   "nbconvert_exporter": "python",
   "pygments_lexer": "ipython3",
   "version": "3.13.1"
  }
 },
 "nbformat": 4,
 "nbformat_minor": 5
}
